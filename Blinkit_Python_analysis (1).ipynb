{
 "cells": [
  {
   "cell_type": "markdown",
   "id": "3d71ef59-281e-4b26-9217-5452317cb9c9",
   "metadata": {},
   "source": [
    "## BLINKIT DATA ANALYSIS\n"
   ]
  },
  {
   "cell_type": "code",
   "execution_count": 4,
   "id": "d1a0507e-8715-4962-9501-6a9703b5ba06",
   "metadata": {},
   "outputs": [],
   "source": [
    "import numpy as np\n",
    "import pandas as pd \n",
    "import matplotlib.pyplot as plt\n",
    "import seaborn as sns"
   ]
  },
  {
   "cell_type": "code",
   "execution_count": 6,
   "id": "71377ef6-65ad-4ee2-a510-68a5d0867fb8",
   "metadata": {},
   "outputs": [],
   "source": [
    "df= pd.read_csv(r\"C:\\Users\\udayk\\Downloads\\blinkit_data.csv\")"
   ]
  },
  {
   "cell_type": "code",
   "execution_count": 8,
   "id": "3ca1a674-acf8-4b36-b32b-01bfdec9bfa5",
   "metadata": {},
   "outputs": [
    {
     "data": {
      "text/html": [
       "<div>\n",
       "<style scoped>\n",
       "    .dataframe tbody tr th:only-of-type {\n",
       "        vertical-align: middle;\n",
       "    }\n",
       "\n",
       "    .dataframe tbody tr th {\n",
       "        vertical-align: top;\n",
       "    }\n",
       "\n",
       "    .dataframe thead th {\n",
       "        text-align: right;\n",
       "    }\n",
       "</style>\n",
       "<table border=\"1\" class=\"dataframe\">\n",
       "  <thead>\n",
       "    <tr style=\"text-align: right;\">\n",
       "      <th></th>\n",
       "      <th>Item Fat Content</th>\n",
       "      <th>Item Identifier</th>\n",
       "      <th>Item Type</th>\n",
       "      <th>Outlet Establishment Year</th>\n",
       "      <th>Outlet Identifier</th>\n",
       "      <th>Outlet Location Type</th>\n",
       "      <th>Outlet Size</th>\n",
       "      <th>Outlet Type</th>\n",
       "      <th>Item Visibility</th>\n",
       "      <th>Item Weight</th>\n",
       "      <th>Sales</th>\n",
       "      <th>Rating</th>\n",
       "    </tr>\n",
       "  </thead>\n",
       "  <tbody>\n",
       "    <tr>\n",
       "      <th>0</th>\n",
       "      <td>Regular</td>\n",
       "      <td>FDX32</td>\n",
       "      <td>Fruits and Vegetables</td>\n",
       "      <td>2012</td>\n",
       "      <td>OUT049</td>\n",
       "      <td>Tier 1</td>\n",
       "      <td>Medium</td>\n",
       "      <td>Supermarket Type1</td>\n",
       "      <td>0.100014</td>\n",
       "      <td>15.10</td>\n",
       "      <td>145.4786</td>\n",
       "      <td>5.0</td>\n",
       "    </tr>\n",
       "    <tr>\n",
       "      <th>1</th>\n",
       "      <td>Low Fat</td>\n",
       "      <td>NCB42</td>\n",
       "      <td>Health and Hygiene</td>\n",
       "      <td>2022</td>\n",
       "      <td>OUT018</td>\n",
       "      <td>Tier 3</td>\n",
       "      <td>Medium</td>\n",
       "      <td>Supermarket Type2</td>\n",
       "      <td>0.008596</td>\n",
       "      <td>11.80</td>\n",
       "      <td>115.3492</td>\n",
       "      <td>5.0</td>\n",
       "    </tr>\n",
       "    <tr>\n",
       "      <th>2</th>\n",
       "      <td>Regular</td>\n",
       "      <td>FDR28</td>\n",
       "      <td>Frozen Foods</td>\n",
       "      <td>2010</td>\n",
       "      <td>OUT046</td>\n",
       "      <td>Tier 1</td>\n",
       "      <td>Small</td>\n",
       "      <td>Supermarket Type1</td>\n",
       "      <td>0.025896</td>\n",
       "      <td>13.85</td>\n",
       "      <td>165.0210</td>\n",
       "      <td>5.0</td>\n",
       "    </tr>\n",
       "    <tr>\n",
       "      <th>3</th>\n",
       "      <td>Regular</td>\n",
       "      <td>FDL50</td>\n",
       "      <td>Canned</td>\n",
       "      <td>2000</td>\n",
       "      <td>OUT013</td>\n",
       "      <td>Tier 3</td>\n",
       "      <td>High</td>\n",
       "      <td>Supermarket Type1</td>\n",
       "      <td>0.042278</td>\n",
       "      <td>12.15</td>\n",
       "      <td>126.5046</td>\n",
       "      <td>5.0</td>\n",
       "    </tr>\n",
       "    <tr>\n",
       "      <th>4</th>\n",
       "      <td>Low Fat</td>\n",
       "      <td>DRI25</td>\n",
       "      <td>Soft Drinks</td>\n",
       "      <td>2015</td>\n",
       "      <td>OUT045</td>\n",
       "      <td>Tier 2</td>\n",
       "      <td>Small</td>\n",
       "      <td>Supermarket Type1</td>\n",
       "      <td>0.033970</td>\n",
       "      <td>19.60</td>\n",
       "      <td>55.1614</td>\n",
       "      <td>5.0</td>\n",
       "    </tr>\n",
       "    <tr>\n",
       "      <th>...</th>\n",
       "      <td>...</td>\n",
       "      <td>...</td>\n",
       "      <td>...</td>\n",
       "      <td>...</td>\n",
       "      <td>...</td>\n",
       "      <td>...</td>\n",
       "      <td>...</td>\n",
       "      <td>...</td>\n",
       "      <td>...</td>\n",
       "      <td>...</td>\n",
       "      <td>...</td>\n",
       "      <td>...</td>\n",
       "    </tr>\n",
       "    <tr>\n",
       "      <th>8518</th>\n",
       "      <td>low fat</td>\n",
       "      <td>NCT53</td>\n",
       "      <td>Health and Hygiene</td>\n",
       "      <td>1998</td>\n",
       "      <td>OUT027</td>\n",
       "      <td>Tier 3</td>\n",
       "      <td>Medium</td>\n",
       "      <td>Supermarket Type3</td>\n",
       "      <td>0.000000</td>\n",
       "      <td>NaN</td>\n",
       "      <td>164.5526</td>\n",
       "      <td>4.0</td>\n",
       "    </tr>\n",
       "    <tr>\n",
       "      <th>8519</th>\n",
       "      <td>low fat</td>\n",
       "      <td>FDN09</td>\n",
       "      <td>Snack Foods</td>\n",
       "      <td>1998</td>\n",
       "      <td>OUT027</td>\n",
       "      <td>Tier 3</td>\n",
       "      <td>Medium</td>\n",
       "      <td>Supermarket Type3</td>\n",
       "      <td>0.034706</td>\n",
       "      <td>NaN</td>\n",
       "      <td>241.6828</td>\n",
       "      <td>4.0</td>\n",
       "    </tr>\n",
       "    <tr>\n",
       "      <th>8520</th>\n",
       "      <td>low fat</td>\n",
       "      <td>DRE13</td>\n",
       "      <td>Soft Drinks</td>\n",
       "      <td>1998</td>\n",
       "      <td>OUT027</td>\n",
       "      <td>Tier 3</td>\n",
       "      <td>Medium</td>\n",
       "      <td>Supermarket Type3</td>\n",
       "      <td>0.027571</td>\n",
       "      <td>NaN</td>\n",
       "      <td>86.6198</td>\n",
       "      <td>4.0</td>\n",
       "    </tr>\n",
       "    <tr>\n",
       "      <th>8521</th>\n",
       "      <td>reg</td>\n",
       "      <td>FDT50</td>\n",
       "      <td>Dairy</td>\n",
       "      <td>1998</td>\n",
       "      <td>OUT027</td>\n",
       "      <td>Tier 3</td>\n",
       "      <td>Medium</td>\n",
       "      <td>Supermarket Type3</td>\n",
       "      <td>0.107715</td>\n",
       "      <td>NaN</td>\n",
       "      <td>97.8752</td>\n",
       "      <td>4.0</td>\n",
       "    </tr>\n",
       "    <tr>\n",
       "      <th>8522</th>\n",
       "      <td>reg</td>\n",
       "      <td>FDM58</td>\n",
       "      <td>Snack Foods</td>\n",
       "      <td>1998</td>\n",
       "      <td>OUT027</td>\n",
       "      <td>Tier 3</td>\n",
       "      <td>Medium</td>\n",
       "      <td>Supermarket Type3</td>\n",
       "      <td>0.000000</td>\n",
       "      <td>NaN</td>\n",
       "      <td>112.2544</td>\n",
       "      <td>4.0</td>\n",
       "    </tr>\n",
       "  </tbody>\n",
       "</table>\n",
       "<p>8523 rows × 12 columns</p>\n",
       "</div>"
      ],
      "text/plain": [
       "     Item Fat Content Item Identifier              Item Type  \\\n",
       "0             Regular           FDX32  Fruits and Vegetables   \n",
       "1             Low Fat           NCB42     Health and Hygiene   \n",
       "2             Regular           FDR28           Frozen Foods   \n",
       "3             Regular           FDL50                 Canned   \n",
       "4             Low Fat           DRI25            Soft Drinks   \n",
       "...               ...             ...                    ...   \n",
       "8518          low fat           NCT53     Health and Hygiene   \n",
       "8519          low fat           FDN09            Snack Foods   \n",
       "8520          low fat           DRE13            Soft Drinks   \n",
       "8521              reg           FDT50                  Dairy   \n",
       "8522              reg           FDM58            Snack Foods   \n",
       "\n",
       "      Outlet Establishment Year Outlet Identifier Outlet Location Type  \\\n",
       "0                          2012            OUT049               Tier 1   \n",
       "1                          2022            OUT018               Tier 3   \n",
       "2                          2010            OUT046               Tier 1   \n",
       "3                          2000            OUT013               Tier 3   \n",
       "4                          2015            OUT045               Tier 2   \n",
       "...                         ...               ...                  ...   \n",
       "8518                       1998            OUT027               Tier 3   \n",
       "8519                       1998            OUT027               Tier 3   \n",
       "8520                       1998            OUT027               Tier 3   \n",
       "8521                       1998            OUT027               Tier 3   \n",
       "8522                       1998            OUT027               Tier 3   \n",
       "\n",
       "     Outlet Size        Outlet Type  Item Visibility  Item Weight     Sales  \\\n",
       "0         Medium  Supermarket Type1         0.100014        15.10  145.4786   \n",
       "1         Medium  Supermarket Type2         0.008596        11.80  115.3492   \n",
       "2          Small  Supermarket Type1         0.025896        13.85  165.0210   \n",
       "3           High  Supermarket Type1         0.042278        12.15  126.5046   \n",
       "4          Small  Supermarket Type1         0.033970        19.60   55.1614   \n",
       "...          ...                ...              ...          ...       ...   \n",
       "8518      Medium  Supermarket Type3         0.000000          NaN  164.5526   \n",
       "8519      Medium  Supermarket Type3         0.034706          NaN  241.6828   \n",
       "8520      Medium  Supermarket Type3         0.027571          NaN   86.6198   \n",
       "8521      Medium  Supermarket Type3         0.107715          NaN   97.8752   \n",
       "8522      Medium  Supermarket Type3         0.000000          NaN  112.2544   \n",
       "\n",
       "      Rating  \n",
       "0        5.0  \n",
       "1        5.0  \n",
       "2        5.0  \n",
       "3        5.0  \n",
       "4        5.0  \n",
       "...      ...  \n",
       "8518     4.0  \n",
       "8519     4.0  \n",
       "8520     4.0  \n",
       "8521     4.0  \n",
       "8522     4.0  \n",
       "\n",
       "[8523 rows x 12 columns]"
      ]
     },
     "execution_count": 8,
     "metadata": {},
     "output_type": "execute_result"
    }
   ],
   "source": [
    "df"
   ]
  },
  {
   "cell_type": "code",
   "execution_count": 10,
   "id": "c904f398-dfbe-43ec-b7b1-761ba13f64c2",
   "metadata": {},
   "outputs": [
    {
     "name": "stdout",
     "output_type": "stream",
     "text": [
      "<class 'pandas.core.frame.DataFrame'>\n",
      "RangeIndex: 8523 entries, 0 to 8522\n",
      "Data columns (total 12 columns):\n",
      " #   Column                     Non-Null Count  Dtype  \n",
      "---  ------                     --------------  -----  \n",
      " 0   Item Fat Content           8523 non-null   object \n",
      " 1   Item Identifier            8523 non-null   object \n",
      " 2   Item Type                  8523 non-null   object \n",
      " 3   Outlet Establishment Year  8523 non-null   int64  \n",
      " 4   Outlet Identifier          8523 non-null   object \n",
      " 5   Outlet Location Type       8523 non-null   object \n",
      " 6   Outlet Size                8523 non-null   object \n",
      " 7   Outlet Type                8523 non-null   object \n",
      " 8   Item Visibility            8523 non-null   float64\n",
      " 9   Item Weight                7060 non-null   float64\n",
      " 10  Sales                      8523 non-null   float64\n",
      " 11  Rating                     8523 non-null   float64\n",
      "dtypes: float64(4), int64(1), object(7)\n",
      "memory usage: 799.2+ KB\n"
     ]
    }
   ],
   "source": [
    "df.info()"
   ]
  },
  {
   "cell_type": "code",
   "execution_count": 12,
   "id": "069f0670-97a9-48c3-8ad0-ca36459b7b23",
   "metadata": {},
   "outputs": [
    {
     "data": {
      "text/plain": [
       "Index(['Item Fat Content', 'Item Identifier', 'Item Type',\n",
       "       'Outlet Establishment Year', 'Outlet Identifier',\n",
       "       'Outlet Location Type', 'Outlet Size', 'Outlet Type', 'Item Visibility',\n",
       "       'Item Weight', 'Sales', 'Rating'],\n",
       "      dtype='object')"
      ]
     },
     "execution_count": 12,
     "metadata": {},
     "output_type": "execute_result"
    }
   ],
   "source": [
    "df.columns"
   ]
  },
  {
   "cell_type": "code",
   "execution_count": 14,
   "id": "561e6167-c0a2-4772-8fb0-1834f9acbc1a",
   "metadata": {},
   "outputs": [
    {
     "data": {
      "text/plain": [
       "array(['Regular', 'Low Fat', 'low fat', 'LF', 'reg'], dtype=object)"
      ]
     },
     "execution_count": 14,
     "metadata": {},
     "output_type": "execute_result"
    }
   ],
   "source": [
    "df['Item Fat Content'].unique()"
   ]
  },
  {
   "cell_type": "markdown",
   "id": "b6bc6326-f724-49bc-97ad-6dfe1a31c003",
   "metadata": {},
   "source": [
    "## DATA CLEANING"
   ]
  },
  {
   "cell_type": "code",
   "execution_count": 16,
   "id": "c0fc3bef-84e0-4025-8bbb-7d20e250af81",
   "metadata": {
    "scrolled": true
   },
   "outputs": [
    {
     "data": {
      "text/plain": [
       "Item Fat Content\n",
       "Low Fat    5089\n",
       "Regular    2889\n",
       "LF          316\n",
       "reg         117\n",
       "low fat     112\n",
       "Name: count, dtype: int64"
      ]
     },
     "execution_count": 16,
     "metadata": {},
     "output_type": "execute_result"
    }
   ],
   "source": [
    "df['Item Fat Content'].value_counts()"
   ]
  },
  {
   "cell_type": "code",
   "execution_count": 22,
   "id": "7dfedb69-d037-4668-9244-3b022d1b9975",
   "metadata": {},
   "outputs": [],
   "source": [
    "df['Item Fat Content']= df['Item Fat Content'].replace({ 'Low Fat' : 'low fat' , \n",
    "                                                        'LF':'low fat' , \n",
    "                                                        'low fat' : 'low fat', \n",
    "                                                        'Regular' : 'reg'} )"
   ]
  },
  {
   "cell_type": "code",
   "execution_count": 24,
   "id": "2114101b-9b91-4269-a7b5-fccfd6c1a141",
   "metadata": {},
   "outputs": [
    {
     "data": {
      "text/html": [
       "<div>\n",
       "<style scoped>\n",
       "    .dataframe tbody tr th:only-of-type {\n",
       "        vertical-align: middle;\n",
       "    }\n",
       "\n",
       "    .dataframe tbody tr th {\n",
       "        vertical-align: top;\n",
       "    }\n",
       "\n",
       "    .dataframe thead th {\n",
       "        text-align: right;\n",
       "    }\n",
       "</style>\n",
       "<table border=\"1\" class=\"dataframe\">\n",
       "  <thead>\n",
       "    <tr style=\"text-align: right;\">\n",
       "      <th></th>\n",
       "      <th>Item Fat Content</th>\n",
       "      <th>Item Identifier</th>\n",
       "      <th>Item Type</th>\n",
       "      <th>Outlet Establishment Year</th>\n",
       "      <th>Outlet Identifier</th>\n",
       "      <th>Outlet Location Type</th>\n",
       "      <th>Outlet Size</th>\n",
       "      <th>Outlet Type</th>\n",
       "      <th>Item Visibility</th>\n",
       "      <th>Item Weight</th>\n",
       "      <th>Sales</th>\n",
       "      <th>Rating</th>\n",
       "    </tr>\n",
       "  </thead>\n",
       "  <tbody>\n",
       "    <tr>\n",
       "      <th>0</th>\n",
       "      <td>reg</td>\n",
       "      <td>FDX32</td>\n",
       "      <td>Fruits and Vegetables</td>\n",
       "      <td>2012</td>\n",
       "      <td>OUT049</td>\n",
       "      <td>Tier 1</td>\n",
       "      <td>Medium</td>\n",
       "      <td>Supermarket Type1</td>\n",
       "      <td>0.100014</td>\n",
       "      <td>15.10</td>\n",
       "      <td>145.4786</td>\n",
       "      <td>5.0</td>\n",
       "    </tr>\n",
       "    <tr>\n",
       "      <th>1</th>\n",
       "      <td>lf</td>\n",
       "      <td>NCB42</td>\n",
       "      <td>Health and Hygiene</td>\n",
       "      <td>2022</td>\n",
       "      <td>OUT018</td>\n",
       "      <td>Tier 3</td>\n",
       "      <td>Medium</td>\n",
       "      <td>Supermarket Type2</td>\n",
       "      <td>0.008596</td>\n",
       "      <td>11.80</td>\n",
       "      <td>115.3492</td>\n",
       "      <td>5.0</td>\n",
       "    </tr>\n",
       "    <tr>\n",
       "      <th>2</th>\n",
       "      <td>reg</td>\n",
       "      <td>FDR28</td>\n",
       "      <td>Frozen Foods</td>\n",
       "      <td>2010</td>\n",
       "      <td>OUT046</td>\n",
       "      <td>Tier 1</td>\n",
       "      <td>Small</td>\n",
       "      <td>Supermarket Type1</td>\n",
       "      <td>0.025896</td>\n",
       "      <td>13.85</td>\n",
       "      <td>165.0210</td>\n",
       "      <td>5.0</td>\n",
       "    </tr>\n",
       "    <tr>\n",
       "      <th>3</th>\n",
       "      <td>reg</td>\n",
       "      <td>FDL50</td>\n",
       "      <td>Canned</td>\n",
       "      <td>2000</td>\n",
       "      <td>OUT013</td>\n",
       "      <td>Tier 3</td>\n",
       "      <td>High</td>\n",
       "      <td>Supermarket Type1</td>\n",
       "      <td>0.042278</td>\n",
       "      <td>12.15</td>\n",
       "      <td>126.5046</td>\n",
       "      <td>5.0</td>\n",
       "    </tr>\n",
       "    <tr>\n",
       "      <th>4</th>\n",
       "      <td>lf</td>\n",
       "      <td>DRI25</td>\n",
       "      <td>Soft Drinks</td>\n",
       "      <td>2015</td>\n",
       "      <td>OUT045</td>\n",
       "      <td>Tier 2</td>\n",
       "      <td>Small</td>\n",
       "      <td>Supermarket Type1</td>\n",
       "      <td>0.033970</td>\n",
       "      <td>19.60</td>\n",
       "      <td>55.1614</td>\n",
       "      <td>5.0</td>\n",
       "    </tr>\n",
       "  </tbody>\n",
       "</table>\n",
       "</div>"
      ],
      "text/plain": [
       "  Item Fat Content Item Identifier              Item Type  \\\n",
       "0              reg           FDX32  Fruits and Vegetables   \n",
       "1               lf           NCB42     Health and Hygiene   \n",
       "2              reg           FDR28           Frozen Foods   \n",
       "3              reg           FDL50                 Canned   \n",
       "4               lf           DRI25            Soft Drinks   \n",
       "\n",
       "   Outlet Establishment Year Outlet Identifier Outlet Location Type  \\\n",
       "0                       2012            OUT049               Tier 1   \n",
       "1                       2022            OUT018               Tier 3   \n",
       "2                       2010            OUT046               Tier 1   \n",
       "3                       2000            OUT013               Tier 3   \n",
       "4                       2015            OUT045               Tier 2   \n",
       "\n",
       "  Outlet Size        Outlet Type  Item Visibility  Item Weight     Sales  \\\n",
       "0      Medium  Supermarket Type1         0.100014        15.10  145.4786   \n",
       "1      Medium  Supermarket Type2         0.008596        11.80  115.3492   \n",
       "2       Small  Supermarket Type1         0.025896        13.85  165.0210   \n",
       "3        High  Supermarket Type1         0.042278        12.15  126.5046   \n",
       "4       Small  Supermarket Type1         0.033970        19.60   55.1614   \n",
       "\n",
       "   Rating  \n",
       "0     5.0  \n",
       "1     5.0  \n",
       "2     5.0  \n",
       "3     5.0  \n",
       "4     5.0  "
      ]
     },
     "execution_count": 24,
     "metadata": {},
     "output_type": "execute_result"
    }
   ],
   "source": [
    "df.head()"
   ]
  },
  {
   "cell_type": "code",
   "execution_count": 26,
   "id": "e096034e-af66-43ec-af52-67dc6874a207",
   "metadata": {},
   "outputs": [],
   "source": [
    "df['Item Fat Content']= df['Item Fat Content'].replace({'lf' : 'low fat'})"
   ]
  },
  {
   "cell_type": "code",
   "execution_count": 28,
   "id": "20b4f833-9731-4d71-af38-71cccc9e1af4",
   "metadata": {},
   "outputs": [
    {
     "data": {
      "text/html": [
       "<div>\n",
       "<style scoped>\n",
       "    .dataframe tbody tr th:only-of-type {\n",
       "        vertical-align: middle;\n",
       "    }\n",
       "\n",
       "    .dataframe tbody tr th {\n",
       "        vertical-align: top;\n",
       "    }\n",
       "\n",
       "    .dataframe thead th {\n",
       "        text-align: right;\n",
       "    }\n",
       "</style>\n",
       "<table border=\"1\" class=\"dataframe\">\n",
       "  <thead>\n",
       "    <tr style=\"text-align: right;\">\n",
       "      <th></th>\n",
       "      <th>Item Fat Content</th>\n",
       "      <th>Item Identifier</th>\n",
       "      <th>Item Type</th>\n",
       "      <th>Outlet Establishment Year</th>\n",
       "      <th>Outlet Identifier</th>\n",
       "      <th>Outlet Location Type</th>\n",
       "      <th>Outlet Size</th>\n",
       "      <th>Outlet Type</th>\n",
       "      <th>Item Visibility</th>\n",
       "      <th>Item Weight</th>\n",
       "      <th>Sales</th>\n",
       "      <th>Rating</th>\n",
       "    </tr>\n",
       "  </thead>\n",
       "  <tbody>\n",
       "    <tr>\n",
       "      <th>0</th>\n",
       "      <td>reg</td>\n",
       "      <td>FDX32</td>\n",
       "      <td>Fruits and Vegetables</td>\n",
       "      <td>2012</td>\n",
       "      <td>OUT049</td>\n",
       "      <td>Tier 1</td>\n",
       "      <td>Medium</td>\n",
       "      <td>Supermarket Type1</td>\n",
       "      <td>0.100014</td>\n",
       "      <td>15.10</td>\n",
       "      <td>145.4786</td>\n",
       "      <td>5.0</td>\n",
       "    </tr>\n",
       "    <tr>\n",
       "      <th>1</th>\n",
       "      <td>low fat</td>\n",
       "      <td>NCB42</td>\n",
       "      <td>Health and Hygiene</td>\n",
       "      <td>2022</td>\n",
       "      <td>OUT018</td>\n",
       "      <td>Tier 3</td>\n",
       "      <td>Medium</td>\n",
       "      <td>Supermarket Type2</td>\n",
       "      <td>0.008596</td>\n",
       "      <td>11.80</td>\n",
       "      <td>115.3492</td>\n",
       "      <td>5.0</td>\n",
       "    </tr>\n",
       "    <tr>\n",
       "      <th>2</th>\n",
       "      <td>reg</td>\n",
       "      <td>FDR28</td>\n",
       "      <td>Frozen Foods</td>\n",
       "      <td>2010</td>\n",
       "      <td>OUT046</td>\n",
       "      <td>Tier 1</td>\n",
       "      <td>Small</td>\n",
       "      <td>Supermarket Type1</td>\n",
       "      <td>0.025896</td>\n",
       "      <td>13.85</td>\n",
       "      <td>165.0210</td>\n",
       "      <td>5.0</td>\n",
       "    </tr>\n",
       "    <tr>\n",
       "      <th>3</th>\n",
       "      <td>reg</td>\n",
       "      <td>FDL50</td>\n",
       "      <td>Canned</td>\n",
       "      <td>2000</td>\n",
       "      <td>OUT013</td>\n",
       "      <td>Tier 3</td>\n",
       "      <td>High</td>\n",
       "      <td>Supermarket Type1</td>\n",
       "      <td>0.042278</td>\n",
       "      <td>12.15</td>\n",
       "      <td>126.5046</td>\n",
       "      <td>5.0</td>\n",
       "    </tr>\n",
       "    <tr>\n",
       "      <th>4</th>\n",
       "      <td>low fat</td>\n",
       "      <td>DRI25</td>\n",
       "      <td>Soft Drinks</td>\n",
       "      <td>2015</td>\n",
       "      <td>OUT045</td>\n",
       "      <td>Tier 2</td>\n",
       "      <td>Small</td>\n",
       "      <td>Supermarket Type1</td>\n",
       "      <td>0.033970</td>\n",
       "      <td>19.60</td>\n",
       "      <td>55.1614</td>\n",
       "      <td>5.0</td>\n",
       "    </tr>\n",
       "  </tbody>\n",
       "</table>\n",
       "</div>"
      ],
      "text/plain": [
       "  Item Fat Content Item Identifier              Item Type  \\\n",
       "0              reg           FDX32  Fruits and Vegetables   \n",
       "1          low fat           NCB42     Health and Hygiene   \n",
       "2              reg           FDR28           Frozen Foods   \n",
       "3              reg           FDL50                 Canned   \n",
       "4          low fat           DRI25            Soft Drinks   \n",
       "\n",
       "   Outlet Establishment Year Outlet Identifier Outlet Location Type  \\\n",
       "0                       2012            OUT049               Tier 1   \n",
       "1                       2022            OUT018               Tier 3   \n",
       "2                       2010            OUT046               Tier 1   \n",
       "3                       2000            OUT013               Tier 3   \n",
       "4                       2015            OUT045               Tier 2   \n",
       "\n",
       "  Outlet Size        Outlet Type  Item Visibility  Item Weight     Sales  \\\n",
       "0      Medium  Supermarket Type1         0.100014        15.10  145.4786   \n",
       "1      Medium  Supermarket Type2         0.008596        11.80  115.3492   \n",
       "2       Small  Supermarket Type1         0.025896        13.85  165.0210   \n",
       "3        High  Supermarket Type1         0.042278        12.15  126.5046   \n",
       "4       Small  Supermarket Type1         0.033970        19.60   55.1614   \n",
       "\n",
       "   Rating  \n",
       "0     5.0  \n",
       "1     5.0  \n",
       "2     5.0  \n",
       "3     5.0  \n",
       "4     5.0  "
      ]
     },
     "execution_count": 28,
     "metadata": {},
     "output_type": "execute_result"
    }
   ],
   "source": [
    "df.head()"
   ]
  },
  {
   "cell_type": "code",
   "execution_count": 30,
   "id": "b7ab6f8a-0257-45fc-bb4f-7111aafb9654",
   "metadata": {},
   "outputs": [
    {
     "data": {
      "text/plain": [
       "Item Fat Content\n",
       "low fat    5517\n",
       "reg        3006\n",
       "Name: count, dtype: int64"
      ]
     },
     "execution_count": 30,
     "metadata": {},
     "output_type": "execute_result"
    }
   ],
   "source": [
    "df['Item Fat Content'].value_counts()"
   ]
  },
  {
   "cell_type": "code",
   "execution_count": 34,
   "id": "e70e4553-9933-4f7e-a8c7-1ff0ca4b48ab",
   "metadata": {},
   "outputs": [
    {
     "data": {
      "text/plain": [
       "Item Fat Content                0\n",
       "Item Identifier                 0\n",
       "Item Type                       0\n",
       "Outlet Establishment Year       0\n",
       "Outlet Identifier               0\n",
       "Outlet Location Type            0\n",
       "Outlet Size                     0\n",
       "Outlet Type                     0\n",
       "Item Visibility                 0\n",
       "Item Weight                  1463\n",
       "Sales                           0\n",
       "Rating                          0\n",
       "dtype: int64"
      ]
     },
     "execution_count": 34,
     "metadata": {},
     "output_type": "execute_result"
    }
   ],
   "source": [
    "df.isnull().sum()"
   ]
  },
  {
   "cell_type": "code",
   "execution_count": 44,
   "id": "6da8a894-087a-4c37-b05a-63cc5fe6d716",
   "metadata": {},
   "outputs": [],
   "source": [
    "df=df.drop('Item Weight', axis='columns')"
   ]
  },
  {
   "cell_type": "code",
   "execution_count": 48,
   "id": "1d51b6fd-8ad9-4c3d-86f5-d19ca9369173",
   "metadata": {},
   "outputs": [
    {
     "data": {
      "text/html": [
       "<div>\n",
       "<style scoped>\n",
       "    .dataframe tbody tr th:only-of-type {\n",
       "        vertical-align: middle;\n",
       "    }\n",
       "\n",
       "    .dataframe tbody tr th {\n",
       "        vertical-align: top;\n",
       "    }\n",
       "\n",
       "    .dataframe thead th {\n",
       "        text-align: right;\n",
       "    }\n",
       "</style>\n",
       "<table border=\"1\" class=\"dataframe\">\n",
       "  <thead>\n",
       "    <tr style=\"text-align: right;\">\n",
       "      <th></th>\n",
       "      <th>Item Fat Content</th>\n",
       "      <th>Item Identifier</th>\n",
       "      <th>Item Type</th>\n",
       "      <th>Outlet Establishment Year</th>\n",
       "      <th>Outlet Identifier</th>\n",
       "      <th>Outlet Location Type</th>\n",
       "      <th>Outlet Size</th>\n",
       "      <th>Outlet Type</th>\n",
       "      <th>Item Visibility</th>\n",
       "      <th>Sales</th>\n",
       "      <th>Rating</th>\n",
       "    </tr>\n",
       "  </thead>\n",
       "  <tbody>\n",
       "    <tr>\n",
       "      <th>0</th>\n",
       "      <td>reg</td>\n",
       "      <td>FDX32</td>\n",
       "      <td>Fruits and Vegetables</td>\n",
       "      <td>2012</td>\n",
       "      <td>OUT049</td>\n",
       "      <td>Tier 1</td>\n",
       "      <td>Medium</td>\n",
       "      <td>Supermarket Type1</td>\n",
       "      <td>0.100014</td>\n",
       "      <td>145.4786</td>\n",
       "      <td>5.0</td>\n",
       "    </tr>\n",
       "  </tbody>\n",
       "</table>\n",
       "</div>"
      ],
      "text/plain": [
       "  Item Fat Content Item Identifier              Item Type  \\\n",
       "0              reg           FDX32  Fruits and Vegetables   \n",
       "\n",
       "   Outlet Establishment Year Outlet Identifier Outlet Location Type  \\\n",
       "0                       2012            OUT049               Tier 1   \n",
       "\n",
       "  Outlet Size        Outlet Type  Item Visibility     Sales  Rating  \n",
       "0      Medium  Supermarket Type1         0.100014  145.4786     5.0  "
      ]
     },
     "execution_count": 48,
     "metadata": {},
     "output_type": "execute_result"
    }
   ],
   "source": [
    "df.head(1)"
   ]
  },
  {
   "cell_type": "markdown",
   "id": "872980c1-56e3-4bd4-bf23-aa7965a5ece1",
   "metadata": {},
   "source": [
    "## BUSSINESS REQUIREMENTS"
   ]
  },
  {
   "cell_type": "markdown",
   "id": "449e5715-b222-4e35-845e-71e826f23282",
   "metadata": {},
   "source": [
    "#### KPI REQUIREMENTS"
   ]
  },
  {
   "cell_type": "code",
   "execution_count": 69,
   "id": "d85a2c3a-aecd-4b9d-9e0c-19b03a650989",
   "metadata": {},
   "outputs": [
    {
     "name": "stdout",
     "output_type": "stream",
     "text": [
      "Total sales : $1,201,681.5\n",
      "Average_sales : $141.0\n",
      "Items_sold : 8,523\n",
      "Average_rating : 4.0\n"
     ]
    }
   ],
   "source": [
    "#TOTAL SALES \n",
    "total_sales =df['Sales'].sum()\n",
    "\n",
    "#AVERAGE SALES \n",
    "Average_sales = df['Sales'].mean()\n",
    "\n",
    "#NO OF ITEMS SOLD \n",
    "items_sold = df['Sales'].count()\n",
    "\n",
    "#AVERAGE RATINGS \n",
    "Average_rating = df['Rating'].mean()\n",
    "\n",
    "print(f\"Total sales : ${total_sales:,.1f}\")\n",
    "print(f\"Average_sales : ${Average_sales:,.1f}\")\n",
    "print(f\"Items_sold : {items_sold:,.0f}\")\n",
    "print(f\"Average_rating : {Average_rating:,.1f}\")"
   ]
  },
  {
   "cell_type": "markdown",
   "id": "9bf6a389-dee8-46db-996d-a9f4f11f9107",
   "metadata": {},
   "source": [
    "## CHARTS REQUIREMENTS"
   ]
  },
  {
   "cell_type": "markdown",
   "id": "fb47be1c-c661-4a27-9851-87bfa60e23a9",
   "metadata": {},
   "source": [
    "#### Total Sales by Fat content"
   ]
  },
  {
   "cell_type": "code",
   "execution_count": 84,
   "id": "4493fd53-58a1-47f4-b13a-73675eb3fdd6",
   "metadata": {},
   "outputs": [
    {
     "data": {
      "image/png": "[encoded data removed]",
      "text/plain": [
       "<Figure size 640x480 with 1 Axes>"
      ]
     },
     "metadata": {},
     "output_type": "display_data"
    }
   ],
   "source": [
    "sales_by_fat = df.groupby('Item Fat Content')['Sales'].sum()\n",
    "\n",
    "plt.pie(sales_by_fat, labels=sales_by_fat.index, autopct='%.1f%%',\n",
    "        startangle=90)\n",
    "\n",
    "plt.title('Sales by Fat content')\n",
    "plt.axis('equal')  \n",
    "plt.show()"
   ]
  },
  {
   "cell_type": "markdown",
   "id": "c0a8275d-f39b-4d6c-9e7c-7ad62dbedc0b",
   "metadata": {},
   "source": [
    "#### Total Sales by Item Type"
   ]
  },
  {
   "cell_type": "code",
   "execution_count": 97,
   "id": "9a2e9ff3-5712-4ca8-8cd0-888a523757b1",
   "metadata": {},
   "outputs": [
    {
     "data": {
      "text/html": [
       "<div>\n",
       "<style scoped>\n",
       "    .dataframe tbody tr th:only-of-type {\n",
       "        vertical-align: middle;\n",
       "    }\n",
       "\n",
       "    .dataframe tbody tr th {\n",
       "        vertical-align: top;\n",
       "    }\n",
       "\n",
       "    .dataframe thead th {\n",
       "        text-align: right;\n",
       "    }\n",
       "</style>\n",
       "<table border=\"1\" class=\"dataframe\">\n",
       "  <thead>\n",
       "    <tr style=\"text-align: right;\">\n",
       "      <th></th>\n",
       "      <th>Item Type</th>\n",
       "      <th>Sales</th>\n",
       "    </tr>\n",
       "  </thead>\n",
       "  <tbody>\n",
       "    <tr>\n",
       "      <th>0</th>\n",
       "      <td>Fruits and Vegetables</td>\n",
       "      <td>178124.0810</td>\n",
       "    </tr>\n",
       "    <tr>\n",
       "      <th>1</th>\n",
       "      <td>Snack Foods</td>\n",
       "      <td>175433.9204</td>\n",
       "    </tr>\n",
       "    <tr>\n",
       "      <th>2</th>\n",
       "      <td>Household</td>\n",
       "      <td>135976.5254</td>\n",
       "    </tr>\n",
       "    <tr>\n",
       "      <th>3</th>\n",
       "      <td>Frozen Foods</td>\n",
       "      <td>118558.8814</td>\n",
       "    </tr>\n",
       "    <tr>\n",
       "      <th>4</th>\n",
       "      <td>Dairy</td>\n",
       "      <td>101276.4596</td>\n",
       "    </tr>\n",
       "    <tr>\n",
       "      <th>5</th>\n",
       "      <td>Canned</td>\n",
       "      <td>90706.7270</td>\n",
       "    </tr>\n",
       "    <tr>\n",
       "      <th>6</th>\n",
       "      <td>Baking Goods</td>\n",
       "      <td>81894.7364</td>\n",
       "    </tr>\n",
       "    <tr>\n",
       "      <th>7</th>\n",
       "      <td>Health and Hygiene</td>\n",
       "      <td>68025.8388</td>\n",
       "    </tr>\n",
       "    <tr>\n",
       "      <th>8</th>\n",
       "      <td>Meat</td>\n",
       "      <td>59449.8638</td>\n",
       "    </tr>\n",
       "    <tr>\n",
       "      <th>9</th>\n",
       "      <td>Soft Drinks</td>\n",
       "      <td>58514.1650</td>\n",
       "    </tr>\n",
       "    <tr>\n",
       "      <th>10</th>\n",
       "      <td>Breads</td>\n",
       "      <td>35379.1198</td>\n",
       "    </tr>\n",
       "    <tr>\n",
       "      <th>11</th>\n",
       "      <td>Hard Drinks</td>\n",
       "      <td>29334.6766</td>\n",
       "    </tr>\n",
       "    <tr>\n",
       "      <th>12</th>\n",
       "      <td>Others</td>\n",
       "      <td>22451.8916</td>\n",
       "    </tr>\n",
       "    <tr>\n",
       "      <th>13</th>\n",
       "      <td>Starchy Foods</td>\n",
       "      <td>21880.0274</td>\n",
       "    </tr>\n",
       "    <tr>\n",
       "      <th>14</th>\n",
       "      <td>Breakfast</td>\n",
       "      <td>15596.6966</td>\n",
       "    </tr>\n",
       "    <tr>\n",
       "      <th>15</th>\n",
       "      <td>Seafood</td>\n",
       "      <td>9077.8700</td>\n",
       "    </tr>\n",
       "  </tbody>\n",
       "</table>\n",
       "</div>"
      ],
      "text/plain": [
       "                Item Type        Sales\n",
       "0   Fruits and Vegetables  178124.0810\n",
       "1             Snack Foods  175433.9204\n",
       "2               Household  135976.5254\n",
       "3            Frozen Foods  118558.8814\n",
       "4                   Dairy  101276.4596\n",
       "5                  Canned   90706.7270\n",
       "6            Baking Goods   81894.7364\n",
       "7      Health and Hygiene   68025.8388\n",
       "8                    Meat   59449.8638\n",
       "9             Soft Drinks   58514.1650\n",
       "10                 Breads   35379.1198\n",
       "11            Hard Drinks   29334.6766\n",
       "12                 Others   22451.8916\n",
       "13          Starchy Foods   21880.0274\n",
       "14              Breakfast   15596.6966\n",
       "15                Seafood    9077.8700"
      ]
     },
     "execution_count": 97,
     "metadata": {},
     "output_type": "execute_result"
    }
   ],
   "source": [
    "sales_by_type = df.groupby('Item Type')['Sales'].sum().sort_values(ascending=False).reset_index()\n",
    "sales_by_type"
   ]
  },
  {
   "cell_type": "code",
   "execution_count": 95,
   "id": "19423d7c-1bcf-43ee-8541-eff8cbb48873",
   "metadata": {},
   "outputs": [
    {
     "data": {
      "image/png": "[encoded data removed]",
      "text/plain": [
       "<Figure size 1000x600 with 1 Axes>"
      ]
     },
     "metadata": {},
     "output_type": "display_data"
    }
   ],
   "source": [
    "\n",
    "sales_by_type = df.groupby('Item Type')['Sales'].sum().sort_values(ascending=False).reset_index()\n",
    "\n",
    "plt.figure(figsize=(10, 6))\n",
    "sns.barplot(data=sales_by_type, x='Item Type', y='Sales')\n",
    "\n",
    "plt.xticks(rotation=90)\n",
    "plt.xlabel('Item Type')\n",
    "plt.ylabel('Total Sales')\n",
    "plt.title('Total Sales by Item Type')\n",
    "plt.tight_layout()\n",
    "plt.show()\n"
   ]
  },
  {
   "cell_type": "markdown",
   "id": "872bbb7e-5e5d-4a5f-b06d-04635ccdb955",
   "metadata": {},
   "source": [
    "#### Total Sales by outlet location type  and Fat content"
   ]
  },
  {
   "cell_type": "code",
   "execution_count": 129,
   "id": "7b0f3b95-3f5d-4114-93ac-003228b87ce3",
   "metadata": {},
   "outputs": [
    {
     "data": {
      "text/html": [
       "<div>\n",
       "<style scoped>\n",
       "    .dataframe tbody tr th:only-of-type {\n",
       "        vertical-align: middle;\n",
       "    }\n",
       "\n",
       "    .dataframe tbody tr th {\n",
       "        vertical-align: top;\n",
       "    }\n",
       "\n",
       "    .dataframe thead th {\n",
       "        text-align: right;\n",
       "    }\n",
       "</style>\n",
       "<table border=\"1\" class=\"dataframe\">\n",
       "  <thead>\n",
       "    <tr style=\"text-align: right;\">\n",
       "      <th></th>\n",
       "      <th></th>\n",
       "      <th>Sales</th>\n",
       "    </tr>\n",
       "    <tr>\n",
       "      <th>Outlet Location Type</th>\n",
       "      <th>Item Fat Content</th>\n",
       "      <th></th>\n",
       "    </tr>\n",
       "  </thead>\n",
       "  <tbody>\n",
       "    <tr>\n",
       "      <th rowspan=\"2\" valign=\"top\">Tier 1</th>\n",
       "      <th>low fat</th>\n",
       "      <td>215047.9126</td>\n",
       "    </tr>\n",
       "    <tr>\n",
       "      <th>reg</th>\n",
       "      <td>121349.8994</td>\n",
       "    </tr>\n",
       "    <tr>\n",
       "      <th rowspan=\"2\" valign=\"top\">Tier 2</th>\n",
       "      <th>low fat</th>\n",
       "      <td>254464.7734</td>\n",
       "    </tr>\n",
       "    <tr>\n",
       "      <th>reg</th>\n",
       "      <td>138685.8682</td>\n",
       "    </tr>\n",
       "    <tr>\n",
       "      <th rowspan=\"2\" valign=\"top\">Tier 3</th>\n",
       "      <th>low fat</th>\n",
       "      <td>306806.9924</td>\n",
       "    </tr>\n",
       "    <tr>\n",
       "      <th>reg</th>\n",
       "      <td>165326.0348</td>\n",
       "    </tr>\n",
       "  </tbody>\n",
       "</table>\n",
       "</div>"
      ],
      "text/plain": [
       "                                             Sales\n",
       "Outlet Location Type Item Fat Content             \n",
       "Tier 1               low fat           215047.9126\n",
       "                     reg               121349.8994\n",
       "Tier 2               low fat           254464.7734\n",
       "                     reg               138685.8682\n",
       "Tier 3               low fat           306806.9924\n",
       "                     reg               165326.0348"
      ]
     },
     "execution_count": 129,
     "metadata": {},
     "output_type": "execute_result"
    }
   ],
   "source": [
    "combined= df.groupby(['Outlet Location Type' ,'Item Fat Content'])['Sales'].sum().to_frame()\n",
    "combined"
   ]
  },
  {
   "cell_type": "code",
   "execution_count": 137,
   "id": "ed05c774-5a66-456f-862c-b36a92215a34",
   "metadata": {},
   "outputs": [
    {
     "data": {
      "image/png": "[encoded data removed]",
      "text/plain": [
       "<Figure size 800x500 with 1 Axes>"
      ]
     },
     "metadata": {},
     "output_type": "display_data"
    }
   ],
   "source": [
    "import seaborn as sns\n",
    "import matplotlib.pyplot as plt\n",
    "\n",
    "\n",
    "combined = df.groupby(['Outlet Location Type', 'Item Fat Content'])['Sales'].sum().reset_index()\n",
    "\n",
    "\n",
    "plt.figure(figsize=(8, 5))\n",
    "sns.barplot(data=combined, x='Outlet Location Type', y='Sales', hue='Item Fat Content')\n",
    "\n",
    "plt.xlabel('Outlet Location Type')\n",
    "plt.ylabel('Total Sales')\n",
    "plt.title('Total Sales by Fat Content and Outlet Location Type')\n",
    "plt.tight_layout()\n",
    "\n",
    "plt.show()\n"
   ]
  },
  {
   "cell_type": "markdown",
   "id": "4b859d81-4ad6-4bd6-8c85-609ea48cdc9f",
   "metadata": {},
   "source": [
    "#### TOTAL SALES BY OUTLET ESTABLISHMENT"
   ]
  },
  {
   "cell_type": "code",
   "execution_count": 142,
   "id": "2de42cba-0879-49f0-80dd-0ed44e026be4",
   "metadata": {},
   "outputs": [
    {
     "name": "stderr",
     "output_type": "stream",
     "text": [
      "C:\\Users\\udayk\\AppData\\Local\\Temp\\ipykernel_22736\\2053767239.py:5: UserWarning: Ignoring `palette` because no `hue` variable has been assigned.\n",
      "  sns.lineplot(data=sales_by_year, x='Outlet Establishment Year', y='Sales', palette='Blues_d')\n"
     ]
    },
    {
     "data": {
      "image/png": "[encoded data removed]",
      "text/plain": [
       "<Figure size 900x500 with 1 Axes>"
      ]
     },
     "metadata": {},
     "output_type": "display_data"
    }
   ],
   "source": [
    "sales_by_year = df.groupby('Outlet Establishment Year')['Sales'].sum().reset_index()\n",
    "\n",
    "\n",
    "plt.figure(figsize=(9, 5))\n",
    "sns.lineplot(data=sales_by_year, x='Outlet Establishment Year', y='Sales', palette='Blues_d')\n",
    "\n",
    "plt.xlabel('Outlet Establishment Year')\n",
    "plt.ylabel('Total Sales')\n",
    "plt.title('Total Sales by Outlet Establishment Year')\n",
    "plt.tight_layout()\n",
    "plt.show()\n"
   ]
  },
  {
   "cell_type": "markdown",
   "id": "634d4071-c2c0-4dd5-80e1-4064fce189ae",
   "metadata": {},
   "source": [
    "####  SALES BY OUTLET SIZE"
   ]
  },
  {
   "cell_type": "code",
   "execution_count": 157,
   "id": "3d663ca1-99fd-4882-b93c-fc601c93bfad",
   "metadata": {},
   "outputs": [
    {
     "name": "stderr",
     "output_type": "stream",
     "text": [
      "C:\\Users\\udayk\\AppData\\Local\\Temp\\ipykernel_22736\\1421322704.py:4: FutureWarning: \n",
      "\n",
      "Passing `palette` without assigning `hue` is deprecated and will be removed in v0.14.0. Assign the `x` variable to `hue` and set `legend=False` for the same effect.\n",
      "\n",
      "  sns.barplot(data=sales_by_size, x='Outlet Size', y='Sales', palette='pastel')\n"
     ]
    },
    {
     "data": {
      "image/png": "[encoded data removed]",
      "text/plain": [
       "<Figure size 600x400 with 1 Axes>"
      ]
     },
     "metadata": {},
     "output_type": "display_data"
    }
   ],
   "source": [
    "sales_by_size = df.groupby('Outlet Size')['Sales'].sum().reset_index()\n",
    "plt.figure(figsize=(6, 4))\n",
    "                   \n",
    "sns.barplot(data=sales_by_size, x='Outlet Size', y='Sales', palette='pastel')\n",
    "\n",
    "plt.title('Sales by Outlet Size')\n",
    "plt.xlabel('Outlet Size')\n",
    "plt.ylabel('Total Sales')\n",
    "plt.tight_layout()\n",
    "plt.show()"
   ]
  },
  {
   "cell_type": "markdown",
   "id": "a73b0d9b-8d88-46c5-adc7-3d92e6560d40",
   "metadata": {},
   "source": [
    "#### sales by outlet location "
   ]
  },
  {
   "cell_type": "code",
   "execution_count": 163,
   "id": "b262a271-f0c1-4326-bdad-37eef91d7cc9",
   "metadata": {},
   "outputs": [
    {
     "name": "stderr",
     "output_type": "stream",
     "text": [
      "C:\\Users\\udayk\\AppData\\Local\\Temp\\ipykernel_22736\\3518061984.py:4: FutureWarning: \n",
      "\n",
      "Passing `palette` without assigning `hue` is deprecated and will be removed in v0.14.0. Assign the `x` variable to `hue` and set `legend=False` for the same effect.\n",
      "\n",
      "  sns.barplot(data=sales_by_size, x='Outlet Location Type', y='Sales', palette='pastel')\n"
     ]
    },
    {
     "data": {
      "image/png": "[encoded data removed]",
      "text/plain": [
       "<Figure size 600x400 with 1 Axes>"
      ]
     },
     "metadata": {},
     "output_type": "display_data"
    }
   ],
   "source": [
    "sales_by_size = df.groupby('Outlet Location Type')['Sales'].sum().reset_index()\n",
    "plt.figure(figsize=(6, 4))\n",
    "                   \n",
    "sns.barplot(data=sales_by_size, x='Outlet Location Type', y='Sales', palette='pastel')\n",
    "\n",
    "plt.title('Sales by Outlet Size')\n",
    "plt.xlabel('Outlet Location Type')\n",
    "plt.ylabel('Total Sales')\n",
    "plt.tight_layout()\n",
    "plt.show()"
   ]
  },
  {
   "cell_type": "code",
   "execution_count": null,
   "id": "7cc21081-c380-49cb-856d-3d852c9e86d6",
   "metadata": {},
   "outputs": [],
   "source": []
  }
 ],
 "metadata": {
  "kernelspec": {
   "display_name": "Python 3 (ipykernel)",
   "language": "python",
   "name": "python3"
  },
  "language_info": {
   "codemirror_mode": {
    "name": "ipython",
    "version": 3
   },
   "file_extension": ".py",
   "mimetype": "text/x-python",
   "name": "python",
   "nbconvert_exporter": "python",
   "pygments_lexer": "ipython3",
   "version": "3.12.4"
  }
 },
 "nbformat": 4,
 "nbformat_minor": 5
}
